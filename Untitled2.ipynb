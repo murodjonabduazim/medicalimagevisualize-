{
 "nbformat": 4,
 "nbformat_minor": 0,
 "metadata": {
  "colab": {
   "provenance": [],
   "collapsed_sections": [],
   "authorship_tag": "ABX9TyNUOhle50uy184Zgwc5P/Ee"
  },
  "kernelspec": {
   "name": "python3",
   "display_name": "Python 3"
  },
  "language_info": {
   "name": "python"
  },
  "widgets": {
   "application/vnd.jupyter.widget-state+json": {
    "dc62f094200443499a0085d5c54706d8": {
     "model_module": "@jupyter-widgets/controls",
     "model_name": "VBoxModel",
     "model_module_version": "1.5.0",
     "state": {
      "_dom_classes": [
       "widget-interact"
      ],
      "_model_module": "@jupyter-widgets/controls",
      "_model_module_version": "1.5.0",
      "_model_name": "VBoxModel",
      "_view_count": null,
      "_view_module": "@jupyter-widgets/controls",
      "_view_module_version": "1.5.0",
      "_view_name": "VBoxView",
      "box_style": "",
      "children": [
       "IPY_MODEL_ebba3b664cf04dafbf37fb4726da62de",
       "IPY_MODEL_ea81bb781faa46c6bf3d55567f98dcb8",
       "IPY_MODEL_9689d47465c143afad7fc01647413b0a",
       "IPY_MODEL_ac3549610401406ea164a4d38d55abec",
       "IPY_MODEL_e3616c3e6ab948528e8dbb56156c23b8"
      ],
      "layout": "IPY_MODEL_073af8e83d304e6f852b08467b2763e9"
     }
    },
    "ebba3b664cf04dafbf37fb4726da62de": {
     "model_module": "@jupyter-widgets/controls",
     "model_name": "IntSliderModel",
     "model_module_version": "1.5.0",
     "state": {
      "_dom_classes": [],
      "_model_module": "@jupyter-widgets/controls",
      "_model_module_version": "1.5.0",
      "_model_name": "IntSliderModel",
      "_view_count": null,
      "_view_module": "@jupyter-widgets/controls",
      "_view_module_version": "1.5.0",
      "_view_name": "IntSliderView",
      "continuous_update": true,
      "description": "layer",
      "description_tooltip": null,
      "disabled": false,
      "layout": "IPY_MODEL_d905e656cb2d4a368727e189589def4e",
      "max": 154,
      "min": 0,
      "orientation": "horizontal",
      "readout": true,
      "readout_format": "d",
      "step": 1,
      "style": "IPY_MODEL_d438bbb69fe747f292cd00ad958e05f3",
      "value": 82
     }
    },
    "ea81bb781faa46c6bf3d55567f98dcb8": {
     "model_module": "@jupyter-widgets/controls",
     "model_name": "DropdownModel",
     "model_module_version": "1.5.0",
     "state": {
      "_dom_classes": [],
      "_model_module": "@jupyter-widgets/controls",
      "_model_module_version": "1.5.0",
      "_model_name": "DropdownModel",
      "_options_labels": [
       "t1",
       "t2",
       "t1ce",
       "flair"
      ],
      "_view_count": null,
      "_view_module": "@jupyter-widgets/controls",
      "_view_module_version": "1.5.0",
      "_view_name": "DropdownView",
      "description": "modality",
      "description_tooltip": null,
      "disabled": false,
      "index": 0,
      "layout": "IPY_MODEL_12a4c4a0d231493285bc480d2127d61c",
      "style": "IPY_MODEL_16d96d64fa34430299443d5429813b9b"
     }
    },
    "9689d47465c143afad7fc01647413b0a": {
     "model_module": "@jupyter-widgets/controls",
     "model_name": "DropdownModel",
     "model_module_version": "1.5.0",
     "state": {
      "_dom_classes": [],
      "_model_module": "@jupyter-widgets/controls",
      "_model_module_version": "1.5.0",
      "_model_name": "DropdownModel",
      "_options_labels": [
       "axial",
       "sagittal",
       "coronal"
      ],
      "_view_count": null,
      "_view_module": "@jupyter-widgets/controls",
      "_view_module_version": "1.5.0",
      "_view_name": "DropdownView",
      "description": "view",
      "description_tooltip": null,
      "disabled": false,
      "index": 0,
      "layout": "IPY_MODEL_4b2ea5d9830749ec9f1f4f4bdfe1ee8f",
      "style": "IPY_MODEL_eaf85832f568496c840170a62251cb33"
     }
    },
    "ac3549610401406ea164a4d38d55abec": {
     "model_module": "@jupyter-widgets/controls",
     "model_name": "IntSliderModel",
     "model_module_version": "1.5.0",
     "state": {
      "_dom_classes": [],
      "_model_module": "@jupyter-widgets/controls",
      "_model_module_version": "1.5.0",
      "_model_name": "IntSliderModel",
      "_view_count": null,
      "_view_module": "@jupyter-widgets/controls",
      "_view_module_version": "1.5.0",
      "_view_name": "IntSliderView",
      "continuous_update": true,
      "description": "patient",
      "description_tooltip": null,
      "disabled": false,
      "layout": "IPY_MODEL_78913107118c4e7ab8e1776ac96c0eb9",
      "max": 284,
      "min": 0,
      "orientation": "horizontal",
      "readout": true,
      "readout_format": "d",
      "step": 1,
      "style": "IPY_MODEL_a8b08242ebfe4ee894747c3a8a29ee79",
      "value": 142
     }
    },
    "e3616c3e6ab948528e8dbb56156c23b8": {
     "model_module": "@jupyter-widgets/output",
     "model_name": "OutputModel",
     "model_module_version": "1.0.0",
     "state": {
      "_dom_classes": [],
      "_model_module": "@jupyter-widgets/output",
      "_model_module_version": "1.0.0",
      "_model_name": "OutputModel",
      "_view_count": null,
      "_view_module": "@jupyter-widgets/output",
      "_view_module_version": "1.0.0",
      "_view_name": "OutputView",
      "layout": "IPY_MODEL_19c37a358ede4d9fb492838dde7a75a7",
      "msg_id": "",
      "outputs": [
       {
        "output_type": "error",
        "ename": "NameError",
        "evalue": "ignored",
        "traceback": [
         "\u001B[0;31m---------------------------------------------------------------------------\u001B[0m",
         "\u001B[0;31mNameError\u001B[0m                                 Traceback (most recent call last)",
         "\u001B[0;32m/usr/local/lib/python3.7/dist-packages/ipywidgets/widgets/interaction.py\u001B[0m in \u001B[0;36mupdate\u001B[0;34m(self, *args)\u001B[0m\n\u001B[1;32m    255\u001B[0m                     \u001B[0mvalue\u001B[0m \u001B[0;34m=\u001B[0m \u001B[0mwidget\u001B[0m\u001B[0;34m.\u001B[0m\u001B[0mget_interact_value\u001B[0m\u001B[0;34m(\u001B[0m\u001B[0;34m)\u001B[0m\u001B[0;34m\u001B[0m\u001B[0;34m\u001B[0m\u001B[0m\n\u001B[1;32m    256\u001B[0m                     \u001B[0mself\u001B[0m\u001B[0;34m.\u001B[0m\u001B[0mkwargs\u001B[0m\u001B[0;34m[\u001B[0m\u001B[0mwidget\u001B[0m\u001B[0;34m.\u001B[0m\u001B[0m_kwarg\u001B[0m\u001B[0;34m]\u001B[0m \u001B[0;34m=\u001B[0m \u001B[0mvalue\u001B[0m\u001B[0;34m\u001B[0m\u001B[0;34m\u001B[0m\u001B[0m\n\u001B[0;32m--> 257\u001B[0;31m                 \u001B[0mself\u001B[0m\u001B[0;34m.\u001B[0m\u001B[0mresult\u001B[0m \u001B[0;34m=\u001B[0m \u001B[0mself\u001B[0m\u001B[0;34m.\u001B[0m\u001B[0mf\u001B[0m\u001B[0;34m(\u001B[0m\u001B[0;34m**\u001B[0m\u001B[0mself\u001B[0m\u001B[0;34m.\u001B[0m\u001B[0mkwargs\u001B[0m\u001B[0;34m)\u001B[0m\u001B[0;34m\u001B[0m\u001B[0;34m\u001B[0m\u001B[0m\n\u001B[0m\u001B[1;32m    258\u001B[0m                 \u001B[0mshow_inline_matplotlib_plots\u001B[0m\u001B[0;34m(\u001B[0m\u001B[0;34m)\u001B[0m\u001B[0;34m\u001B[0m\u001B[0;34m\u001B[0m\u001B[0m\n\u001B[1;32m    259\u001B[0m                 \u001B[0;32mif\u001B[0m \u001B[0mself\u001B[0m\u001B[0;34m.\u001B[0m\u001B[0mauto_display\u001B[0m \u001B[0;32mand\u001B[0m \u001B[0mself\u001B[0m\u001B[0;34m.\u001B[0m\u001B[0mresult\u001B[0m \u001B[0;32mis\u001B[0m \u001B[0;32mnot\u001B[0m \u001B[0;32mNone\u001B[0m\u001B[0;34m:\u001B[0m\u001B[0;34m\u001B[0m\u001B[0;34m\u001B[0m\u001B[0m\n",
         "\u001B[0;32m<ipython-input-10-3c097c975067>\u001B[0m in \u001B[0;36mexplore_3dimage\u001B[0;34m(layer, modality, view, patient)\u001B[0m\n\u001B[1;32m     13\u001B[0m \u001B[0;34m\u001B[0m\u001B[0m\n\u001B[1;32m     14\u001B[0m \u001B[0;34m\u001B[0m\u001B[0m\n\u001B[0;32m---> 15\u001B[0;31m     \u001B[0mimage\u001B[0m \u001B[0;34m=\u001B[0m \u001B[0mread_img_sitk\u001B[0m\u001B[0;34m(\u001B[0m\u001B[0mdata_paths\u001B[0m\u001B[0;34m[\u001B[0m\u001B[0mpatient\u001B[0m\u001B[0;34m]\u001B[0m\u001B[0;34m[\u001B[0m\u001B[0mmodal\u001B[0m\u001B[0;34m]\u001B[0m\u001B[0;34m)\u001B[0m\u001B[0;34m\u001B[0m\u001B[0;34m\u001B[0m\u001B[0m\n\u001B[0m\u001B[1;32m     16\u001B[0m     \u001B[0marray_view\u001B[0m \u001B[0;34m=\u001B[0m \u001B[0msitk\u001B[0m\u001B[0;34m.\u001B[0m\u001B[0mGetArrayViewFromImage\u001B[0m\u001B[0;34m(\u001B[0m\u001B[0mimage\u001B[0m\u001B[0;34m)\u001B[0m\u001B[0;34m\u001B[0m\u001B[0;34m\u001B[0m\u001B[0m\n\u001B[1;32m     17\u001B[0m \u001B[0;34m\u001B[0m\u001B[0m\n",
         "\u001B[0;31mNameError\u001B[0m: name 'read_img_sitk' is not defined"
        ]
       }
      ]
     }
    },
    "073af8e83d304e6f852b08467b2763e9": {
     "model_module": "@jupyter-widgets/base",
     "model_name": "LayoutModel",
     "model_module_version": "1.2.0",
     "state": {
      "_model_module": "@jupyter-widgets/base",
      "_model_module_version": "1.2.0",
      "_model_name": "LayoutModel",
      "_view_count": null,
      "_view_module": "@jupyter-widgets/base",
      "_view_module_version": "1.2.0",
      "_view_name": "LayoutView",
      "align_content": null,
      "align_items": null,
      "align_self": null,
      "border": null,
      "bottom": null,
      "display": null,
      "flex": null,
      "flex_flow": null,
      "grid_area": null,
      "grid_auto_columns": null,
      "grid_auto_flow": null,
      "grid_auto_rows": null,
      "grid_column": null,
      "grid_gap": null,
      "grid_row": null,
      "grid_template_areas": null,
      "grid_template_columns": null,
      "grid_template_rows": null,
      "height": null,
      "justify_content": null,
      "justify_items": null,
      "left": null,
      "margin": null,
      "max_height": null,
      "max_width": null,
      "min_height": null,
      "min_width": null,
      "object_fit": null,
      "object_position": null,
      "order": null,
      "overflow": null,
      "overflow_x": null,
      "overflow_y": null,
      "padding": null,
      "right": null,
      "top": null,
      "visibility": null,
      "width": null
     }
    },
    "d905e656cb2d4a368727e189589def4e": {
     "model_module": "@jupyter-widgets/base",
     "model_name": "LayoutModel",
     "model_module_version": "1.2.0",
     "state": {
      "_model_module": "@jupyter-widgets/base",
      "_model_module_version": "1.2.0",
      "_model_name": "LayoutModel",
      "_view_count": null,
      "_view_module": "@jupyter-widgets/base",
      "_view_module_version": "1.2.0",
      "_view_name": "LayoutView",
      "align_content": null,
      "align_items": null,
      "align_self": null,
      "border": null,
      "bottom": null,
      "display": null,
      "flex": null,
      "flex_flow": null,
      "grid_area": null,
      "grid_auto_columns": null,
      "grid_auto_flow": null,
      "grid_auto_rows": null,
      "grid_column": null,
      "grid_gap": null,
      "grid_row": null,
      "grid_template_areas": null,
      "grid_template_columns": null,
      "grid_template_rows": null,
      "height": null,
      "justify_content": null,
      "justify_items": null,
      "left": null,
      "margin": null,
      "max_height": null,
      "max_width": null,
      "min_height": null,
      "min_width": null,
      "object_fit": null,
      "object_position": null,
      "order": null,
      "overflow": null,
      "overflow_x": null,
      "overflow_y": null,
      "padding": null,
      "right": null,
      "top": null,
      "visibility": null,
      "width": null
     }
    },
    "d438bbb69fe747f292cd00ad958e05f3": {
     "model_module": "@jupyter-widgets/controls",
     "model_name": "SliderStyleModel",
     "model_module_version": "1.5.0",
     "state": {
      "_model_module": "@jupyter-widgets/controls",
      "_model_module_version": "1.5.0",
      "_model_name": "SliderStyleModel",
      "_view_count": null,
      "_view_module": "@jupyter-widgets/base",
      "_view_module_version": "1.2.0",
      "_view_name": "StyleView",
      "description_width": "",
      "handle_color": null
     }
    },
    "12a4c4a0d231493285bc480d2127d61c": {
     "model_module": "@jupyter-widgets/base",
     "model_name": "LayoutModel",
     "model_module_version": "1.2.0",
     "state": {
      "_model_module": "@jupyter-widgets/base",
      "_model_module_version": "1.2.0",
      "_model_name": "LayoutModel",
      "_view_count": null,
      "_view_module": "@jupyter-widgets/base",
      "_view_module_version": "1.2.0",
      "_view_name": "LayoutView",
      "align_content": null,
      "align_items": null,
      "align_self": null,
      "border": null,
      "bottom": null,
      "display": null,
      "flex": null,
      "flex_flow": null,
      "grid_area": null,
      "grid_auto_columns": null,
      "grid_auto_flow": null,
      "grid_auto_rows": null,
      "grid_column": null,
      "grid_gap": null,
      "grid_row": null,
      "grid_template_areas": null,
      "grid_template_columns": null,
      "grid_template_rows": null,
      "height": null,
      "justify_content": null,
      "justify_items": null,
      "left": null,
      "margin": null,
      "max_height": null,
      "max_width": null,
      "min_height": null,
      "min_width": null,
      "object_fit": null,
      "object_position": null,
      "order": null,
      "overflow": null,
      "overflow_x": null,
      "overflow_y": null,
      "padding": null,
      "right": null,
      "top": null,
      "visibility": null,
      "width": null
     }
    },
    "16d96d64fa34430299443d5429813b9b": {
     "model_module": "@jupyter-widgets/controls",
     "model_name": "DescriptionStyleModel",
     "model_module_version": "1.5.0",
     "state": {
      "_model_module": "@jupyter-widgets/controls",
      "_model_module_version": "1.5.0",
      "_model_name": "DescriptionStyleModel",
      "_view_count": null,
      "_view_module": "@jupyter-widgets/base",
      "_view_module_version": "1.2.0",
      "_view_name": "StyleView",
      "description_width": ""
     }
    },
    "4b2ea5d9830749ec9f1f4f4bdfe1ee8f": {
     "model_module": "@jupyter-widgets/base",
     "model_name": "LayoutModel",
     "model_module_version": "1.2.0",
     "state": {
      "_model_module": "@jupyter-widgets/base",
      "_model_module_version": "1.2.0",
      "_model_name": "LayoutModel",
      "_view_count": null,
      "_view_module": "@jupyter-widgets/base",
      "_view_module_version": "1.2.0",
      "_view_name": "LayoutView",
      "align_content": null,
      "align_items": null,
      "align_self": null,
      "border": null,
      "bottom": null,
      "display": null,
      "flex": null,
      "flex_flow": null,
      "grid_area": null,
      "grid_auto_columns": null,
      "grid_auto_flow": null,
      "grid_auto_rows": null,
      "grid_column": null,
      "grid_gap": null,
      "grid_row": null,
      "grid_template_areas": null,
      "grid_template_columns": null,
      "grid_template_rows": null,
      "height": null,
      "justify_content": null,
      "justify_items": null,
      "left": null,
      "margin": null,
      "max_height": null,
      "max_width": null,
      "min_height": null,
      "min_width": null,
      "object_fit": null,
      "object_position": null,
      "order": null,
      "overflow": null,
      "overflow_x": null,
      "overflow_y": null,
      "padding": null,
      "right": null,
      "top": null,
      "visibility": null,
      "width": null
     }
    },
    "eaf85832f568496c840170a62251cb33": {
     "model_module": "@jupyter-widgets/controls",
     "model_name": "DescriptionStyleModel",
     "model_module_version": "1.5.0",
     "state": {
      "_model_module": "@jupyter-widgets/controls",
      "_model_module_version": "1.5.0",
      "_model_name": "DescriptionStyleModel",
      "_view_count": null,
      "_view_module": "@jupyter-widgets/base",
      "_view_module_version": "1.2.0",
      "_view_name": "StyleView",
      "description_width": ""
     }
    },
    "78913107118c4e7ab8e1776ac96c0eb9": {
     "model_module": "@jupyter-widgets/base",
     "model_name": "LayoutModel",
     "model_module_version": "1.2.0",
     "state": {
      "_model_module": "@jupyter-widgets/base",
      "_model_module_version": "1.2.0",
      "_model_name": "LayoutModel",
      "_view_count": null,
      "_view_module": "@jupyter-widgets/base",
      "_view_module_version": "1.2.0",
      "_view_name": "LayoutView",
      "align_content": null,
      "align_items": null,
      "align_self": null,
      "border": null,
      "bottom": null,
      "display": null,
      "flex": null,
      "flex_flow": null,
      "grid_area": null,
      "grid_auto_columns": null,
      "grid_auto_flow": null,
      "grid_auto_rows": null,
      "grid_column": null,
      "grid_gap": null,
      "grid_row": null,
      "grid_template_areas": null,
      "grid_template_columns": null,
      "grid_template_rows": null,
      "height": null,
      "justify_content": null,
      "justify_items": null,
      "left": null,
      "margin": null,
      "max_height": null,
      "max_width": null,
      "min_height": null,
      "min_width": null,
      "object_fit": null,
      "object_position": null,
      "order": null,
      "overflow": null,
      "overflow_x": null,
      "overflow_y": null,
      "padding": null,
      "right": null,
      "top": null,
      "visibility": null,
      "width": null
     }
    },
    "a8b08242ebfe4ee894747c3a8a29ee79": {
     "model_module": "@jupyter-widgets/controls",
     "model_name": "SliderStyleModel",
     "model_module_version": "1.5.0",
     "state": {
      "_model_module": "@jupyter-widgets/controls",
      "_model_module_version": "1.5.0",
      "_model_name": "SliderStyleModel",
      "_view_count": null,
      "_view_module": "@jupyter-widgets/base",
      "_view_module_version": "1.2.0",
      "_view_name": "StyleView",
      "description_width": "",
      "handle_color": null
     }
    },
    "19c37a358ede4d9fb492838dde7a75a7": {
     "model_module": "@jupyter-widgets/base",
     "model_name": "LayoutModel",
     "model_module_version": "1.2.0",
     "state": {
      "_model_module": "@jupyter-widgets/base",
      "_model_module_version": "1.2.0",
      "_model_name": "LayoutModel",
      "_view_count": null,
      "_view_module": "@jupyter-widgets/base",
      "_view_module_version": "1.2.0",
      "_view_name": "LayoutView",
      "align_content": null,
      "align_items": null,
      "align_self": null,
      "border": null,
      "bottom": null,
      "display": null,
      "flex": null,
      "flex_flow": null,
      "grid_area": null,
      "grid_auto_columns": null,
      "grid_auto_flow": null,
      "grid_auto_rows": null,
      "grid_column": null,
      "grid_gap": null,
      "grid_row": null,
      "grid_template_areas": null,
      "grid_template_columns": null,
      "grid_template_rows": null,
      "height": null,
      "justify_content": null,
      "justify_items": null,
      "left": null,
      "margin": null,
      "max_height": null,
      "max_width": null,
      "min_height": null,
      "min_width": null,
      "object_fit": null,
      "object_position": null,
      "order": null,
      "overflow": null,
      "overflow_x": null,
      "overflow_y": null,
      "padding": null,
      "right": null,
      "top": null,
      "visibility": null,
      "width": null
     }
    }
   }
  }
 },
 "cells": [
  {
   "cell_type": "code",
   "source": [
    "from google.colab import drive\n",
    "drive.mount('/content/drive')"
   ],
   "metadata": {
    "colab": {
     "base_uri": "https://localhost:8080/"
    },
    "id": "tCxmNnK1aSBb",
    "executionInfo": {
     "status": "ok",
     "timestamp": 1666793901890,
     "user_tz": -300,
     "elapsed": 2782,
     "user": {
      "displayName": "Murodjon Abdazov",
      "userId": "10588099630441939177"
     }
    },
    "outputId": "2159bc23-0da4-4f96-a4e8-a1adb6c7a544",
    "pycharm": {
     "name": "#%%\n"
    }
   },
   "execution_count": 14,
   "outputs": [
    {
     "output_type": "stream",
     "name": "stdout",
     "text": [
      "Drive already mounted at /content/drive; to attempt to forcibly remount, call drive.mount(\"/content/drive\", force_remount=True).\n"
     ]
    }
   ]
  },
  {
   "cell_type": "code",
   "source": [
    "!pip install SimpleITK\n",
    "!pip install nibabel"
   ],
   "metadata": {
    "colab": {
     "base_uri": "https://localhost:8080/"
    },
    "id": "bzIVzS3gbWFs",
    "executionInfo": {
     "status": "ok",
     "timestamp": 1666793894183,
     "user_tz": -300,
     "elapsed": 8803,
     "user": {
      "displayName": "Murodjon Abdazov",
      "userId": "10588099630441939177"
     }
    },
    "outputId": "fd729d0f-a1af-4cff-e7e2-1b3f320f71ba",
    "pycharm": {
     "name": "#%%\n"
    }
   },
   "execution_count": 12,
   "outputs": [
    {
     "output_type": "stream",
     "name": "stdout",
     "text": [
      "Looking in indexes: https://pypi.org/simple, https://us-python.pkg.dev/colab-wheels/public/simple/\n",
      "Requirement already satisfied: SimpleITK in /usr/local/lib/python3.7/dist-packages (2.2.0)\n",
      "Looking in indexes: https://pypi.org/simple, https://us-python.pkg.dev/colab-wheels/public/simple/\n",
      "Requirement already satisfied: nibabel in /usr/local/lib/python3.7/dist-packages (3.0.2)\n",
      "Requirement already satisfied: numpy>=1.12 in /usr/local/lib/python3.7/dist-packages (from nibabel) (1.21.6)\n"
     ]
    }
   ]
  },
  {
   "cell_type": "code",
   "source": [
    "import zipfile\n",
    "import glob\n",
    "import re\n",
    "import SimpleITK as sitk\n",
    "import nibabel as nib\n",
    "import numpy as np\n",
    "from ipywidgets import interact,interactive,IntSlider, ToggleButtons"
   ],
   "metadata": {
    "id": "Ej5Gg1opcFIP",
    "executionInfo": {
     "status": "ok",
     "timestamp": 1666793895905,
     "user_tz": -300,
     "elapsed": 26,
     "user": {
      "displayName": "Murodjon Abdazov",
      "userId": "10588099630441939177"
     }
    },
    "pycharm": {
     "name": "#%%\n"
    }
   },
   "execution_count": 13,
   "outputs": []
  },
  {
   "cell_type": "code",
   "source": [
    "def extract_dataset(addr,folder_name):\n",
    "  dataset_path = addr\n",
    "  zfile = zipfile.ZipFile(dataset_path)\n",
    "  zfile.extractall(folder_name)"
   ],
   "metadata": {
    "id": "UX00xVugdTDk",
    "executionInfo": {
     "status": "ok",
     "timestamp": 1666793908623,
     "user_tz": -300,
     "elapsed": 332,
     "user": {
      "displayName": "Murodjon Abdazov",
      "userId": "10588099630441939177"
     }
    },
    "pycharm": {
     "name": "#%%\n"
    }
   },
   "execution_count": 15,
   "outputs": []
  },
  {
   "cell_type": "code",
   "source": [
    "extract_dataset('/content/drive/MyDrive/MICCAI_BraTS_2018_Data_Training.zip','Training')"
   ],
   "metadata": {
    "id": "2nfh2w-8sxZs",
    "executionInfo": {
     "status": "ok",
     "timestamp": 1666794447939,
     "user_tz": -300,
     "elapsed": 178054,
     "user": {
      "displayName": "Murodjon Abdazov",
      "userId": "10588099630441939177"
     }
    },
    "pycharm": {
     "name": "#%%\n"
    }
   },
   "execution_count": 22,
   "outputs": []
  },
  {
   "cell_type": "code",
   "source": [
    "t1 = glob.glob('/content/Training/*GG/*/*t1.nii.gz')\n",
    "t2 = glob.glob('/content/Training/*GG/*/*t2.nii.gz')\n",
    "flair = glob.glob('/content/Training/*GG/*/*flair.nii.gz')\n",
    "t1ce = glob.glob('/content/Training/*GG/*/*t1ce.nii.gz')\n",
    "seg = glob.glob('/content/Training/*GG/*/*seg.nii.gz')  # Ground Truth\n",
    "pattern = re.compile('/content/Training/.*_(\\w*)\\.nii\\.gz')\n",
    "\n",
    "data_paths = [{\n",
    "    pattern.findall(item)[0]:item for item in items\n",
    "}\n",
    "for items in list(zip(t1, t2, t1ce, flair, seg))]\n",
    "\n",
    "print('number of training examples' ,len(data_paths))\n",
    "print(data_paths)"
   ],
   "metadata": {
    "id": "xoqMDt__uecA",
    "executionInfo": {
     "status": "ok",
     "timestamp": 1666794449593,
     "user_tz": -300,
     "elapsed": 402,
     "user": {
      "displayName": "Murodjon Abdazov",
      "userId": "10588099630441939177"
     }
    },
    "colab": {
     "base_uri": "https://localhost:8080/"
    },
    "outputId": "7c5333d1-8b47-426c-ee65-69c3b7637b2f",
    "pycharm": {
     "name": "#%%\n"
    }
   },
   "execution_count": 23,
   "outputs": [
    {
     "output_type": "stream",
     "name": "stdout",
     "text": [
      "number of training examples 0\n",
      "[]\n"
     ]
    }
   ]
  },
  {
   "cell_type": "code",
   "source": [
    "def read_img_sitk(img_path):\n",
    "  image_data = sitk.ReadImage(img_path)\n",
    "  return image_data"
   ],
   "metadata": {
    "id": "vE4avJk0y1Ne",
    "pycharm": {
     "name": "#%%\n"
    }
   },
   "execution_count": null,
   "outputs": []
  },
  {
   "cell_type": "code",
   "source": [
    "def read_img_nii(img_path):\n",
    "  image_data = np.array(nib.load(img_path).get_fdata())\n",
    "  return image_data"
   ],
   "metadata": {
    "id": "6IDhdK7X0DMY",
    "pycharm": {
     "name": "#%%\n"
    }
   },
   "execution_count": null,
   "outputs": []
  },
  {
   "cell_type": "code",
   "source": [
    "np_img = read_img_nii(data_paths[0]['flair'])\n",
    "sitk_img = read_img_sitk(data_paths[0]['flair'])"
   ],
   "metadata": {
    "id": "Pa-tdMTw0kE1",
    "pycharm": {
     "name": "#%%\n"
    }
   },
   "execution_count": null,
   "outputs": []
  },
  {
   "cell_type": "code",
   "source": [
    "#Check shape of images\n",
    "\n",
    "np_shape = np_img.shape\n",
    "sitk_shape = sitk_img.GetSize()\n",
    "print(\"Shape of np_img : \", np_shape)\n",
    "print(\"Shape of sitk_img : \", sitk_shape)"
   ],
   "metadata": {
    "id": "aJYqPnjLn9DX",
    "pycharm": {
     "name": "#%%\n"
    }
   },
   "execution_count": null,
   "outputs": []
  },
  {
   "cell_type": "code",
   "source": [
    "sitk_img2 = sitk.GetImageFromArray(np_img)"
   ],
   "metadata": {
    "id": "Eb9LVa65oFRa",
    "pycharm": {
     "name": "#%%\n"
    }
   },
   "execution_count": null,
   "outputs": []
  },
  {
   "cell_type": "code",
   "source": [
    "sitk_img2.GetSize()"
   ],
   "metadata": {
    "id": "oH7tf83noKB9",
    "pycharm": {
     "name": "#%%\n"
    }
   },
   "execution_count": null,
   "outputs": []
  },
  {
   "cell_type": "code",
   "source": [
    "np_img2 = sitk.GetArrayFromImage(sitk_img2)"
   ],
   "metadata": {
    "id": "KiasUNLSoWdy",
    "executionInfo": {
     "status": "ok",
     "timestamp": 1666793801820,
     "user_tz": -300,
     "elapsed": 340,
     "user": {
      "displayName": "Murodjon Abdazov",
      "userId": "10588099630441939177"
     }
    },
    "pycharm": {
     "name": "#%%\n"
    }
   },
   "execution_count": 9,
   "outputs": []
  },
  {
   "cell_type": "code",
   "source": [
    "np_img2.shape"
   ],
   "metadata": {
    "id": "Bm_E3Dd5obVp",
    "pycharm": {
     "name": "#%%\n"
    }
   },
   "execution_count": null,
   "outputs": []
  },
  {
   "cell_type": "markdown",
   "source": [
    "1.Visualize samples"
   ],
   "metadata": {
    "id": "8m1DfX00ohE4",
    "pycharm": {
     "name": "#%% md\n"
    }
   }
  },
  {
   "cell_type": "code",
   "source": [
    "@interact\n",
    "def explore_3dimage(layer = (0,154) , modality=['t1', 't2', 't1ce', 'flair'] , view = ['axial' , 'sagittal' , 'coronal'], patient= (0,284) ): \n",
    "    if modality == 't1':\n",
    "      modal = 't1'\n",
    "    elif modality == 't2':\n",
    "      modal = 't2'\n",
    "    elif modality == 't1ce':\n",
    "      modal = 't1ce'\n",
    "    elif modality == 'flair':\n",
    "      modal = 'flair'\n",
    "    else :\n",
    "      print(\"Error\")\n",
    "\n",
    "    \n",
    "    image = read_img_sitk(data_paths[patient][modal])\n",
    "    array_view = sitk.GetArrayViewFromImage(image)\n",
    "\n",
    "    if view == 'axial':\n",
    "      array_view = array_view[layer, :,:]\n",
    "    elif view == 'coronal':\n",
    "      array_view = array_view[:, layer, :]\n",
    "    elif view == 'sagittal':\n",
    "      array_view = array_view[:, : ,layer]\n",
    "    else:\n",
    "      print(\"Error\")\n",
    "\n",
    "    plt.figure(figsize=(10, 5))\n",
    "    plt.imshow(array_view, cmap='gray')\n",
    "    plt.title('Explore Layers of Brain', fontsize=10)\n",
    "    plt.axis('off')"
   ],
   "metadata": {
    "id": "-FRbBveeokrY",
    "colab": {
     "base_uri": "https://localhost:8080/",
     "height": 484,
     "referenced_widgets": [
      "dc62f094200443499a0085d5c54706d8",
      "ebba3b664cf04dafbf37fb4726da62de",
      "ea81bb781faa46c6bf3d55567f98dcb8",
      "9689d47465c143afad7fc01647413b0a",
      "ac3549610401406ea164a4d38d55abec",
      "e3616c3e6ab948528e8dbb56156c23b8",
      "073af8e83d304e6f852b08467b2763e9",
      "d905e656cb2d4a368727e189589def4e",
      "d438bbb69fe747f292cd00ad958e05f3",
      "12a4c4a0d231493285bc480d2127d61c",
      "16d96d64fa34430299443d5429813b9b",
      "4b2ea5d9830749ec9f1f4f4bdfe1ee8f",
      "eaf85832f568496c840170a62251cb33",
      "78913107118c4e7ab8e1776ac96c0eb9",
      "a8b08242ebfe4ee894747c3a8a29ee79",
      "19c37a358ede4d9fb492838dde7a75a7"
     ]
    },
    "executionInfo": {
     "status": "ok",
     "timestamp": 1666793816489,
     "user_tz": -300,
     "elapsed": 673,
     "user": {
      "displayName": "Murodjon Abdazov",
      "userId": "10588099630441939177"
     }
    },
    "outputId": "916f1113-dc68-4471-d0fb-c7751312a00f",
    "pycharm": {
     "name": "#%%\n"
    }
   },
   "execution_count": 10,
   "outputs": [
    {
     "output_type": "display_data",
     "data": {
      "text/plain": [
       "interactive(children=(IntSlider(value=77, description='layer', max=154), Dropdown(description='modality', opti…"
      ],
      "application/vnd.jupyter.widget-view+json": {
       "version_major": 2,
       "version_minor": 0,
       "model_id": "dc62f094200443499a0085d5c54706d8"
      }
     },
     "metadata": {}
    }
   ]
  },
  {
   "cell_type": "markdown",
   "source": [
    "1.Write images"
   ],
   "metadata": {
    "id": "SXhxG4P7oq23",
    "pycharm": {
     "name": "#%% md\n"
    }
   }
  },
  {
   "cell_type": "code",
   "source": [
    "final_paths = '/content/example.nii.gz'\n",
    "sitk.WriteImage(sitk_img2,final_paths)"
   ],
   "metadata": {
    "id": "hNQvyuj-otNf",
    "pycharm": {
     "name": "#%%\n"
    }
   },
   "execution_count": null,
   "outputs": []
  }
 ]
}